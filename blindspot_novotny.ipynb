{
 "cells": [
  {
   "cell_type": "markdown",
   "metadata": {},
   "source": [
    "# Interview Assignment - Blindspot Solutions\n",
    "### Author: Adam Novotny"
   ]
  },
  {
   "cell_type": "markdown",
   "metadata": {},
   "source": [
    "This Jupyter Notebook is concerned with **Anomaly detection** in **CSIC 2010** dataset and was created for interview assignment for Blindspot Solutions. \n",
    "The assignment consists of parsing and analyzing dataset; consequently of training and evaluating classifiers. The best performing classifier is then chosen."
   ]
  },
  {
   "cell_type": "markdown",
   "metadata": {},
   "source": [
    "## Initialization"
   ]
  },
  {
   "cell_type": "code",
   "execution_count": 1,
   "metadata": {},
   "outputs": [],
   "source": [
    "import sys\n",
    "import os\n",
    "pwd = %pwd\n",
    "sys.path.append(os.path.join(pwd, os.path.join('src')))\n",
    "sys.path.append(os.path.join(pwd, os.path.join('data')))\n",
    "\n",
    "%load_ext autoreload\n",
    "%autoreload 2"
   ]
  },
  {
   "cell_type": "code",
   "execution_count": 2,
   "metadata": {},
   "outputs": [],
   "source": [
    "import numpy as np\n",
    "import pandas as pd\n",
    "import seaborn as sn\n",
    "import matplotlib.pyplot as plt"
   ]
  },
  {
   "cell_type": "code",
   "execution_count": 3,
   "metadata": {},
   "outputs": [],
   "source": [
    "from sklearn.feature_extraction.text import TfidfVectorizer\n",
    "from sklearn.model_selection import train_test_split\n",
    "\n",
    "from sklearn.linear_model import LogisticRegression\n",
    "from sklearn.svm import LinearSVC\n",
    "from sklearn.ensemble import RandomForestClassifier\n",
    "\n",
    "from sklearn.metrics import accuracy_score, f1_score, confusion_matrix\n",
    "from sklearn.model_selection import cross_val_score"
   ]
  },
  {
   "cell_type": "markdown",
   "metadata": {},
   "source": [
    "## Parsing"
   ]
  },
  {
   "cell_type": "markdown",
   "metadata": {},
   "source": [
    "Based on documentation, the dataset contains 36,000 normal requests and more than 25,000 anomalous requests."
   ]
  },
  {
   "cell_type": "code",
   "execution_count": 4,
   "metadata": {},
   "outputs": [],
   "source": [
    "from fun_aux import parse_file #parse_file \n",
    "txt_norm_train = 'data\\\\normalTrafficTraining.txt'\n",
    "txt_norm_test = 'data\\\\normalTrafficTest.txt'\n",
    "txt_anom = 'data\\\\anomalousTrafficTest.txt'\n",
    "\n",
    "data_norm_train = parse_file(txt_norm_train)\n",
    "data_norm_test = parse_file(txt_norm_test)\n",
    "data_anom = parse_file(txt_anom)\n",
    "\n",
    "#adding Target: 0 for \"normal\", 1 for \"anomalous\"\n",
    "data_norm_train['Target'] = 0 #normal\n",
    "data_norm_test['Target'] = 0 #normal\n",
    "data_anom['Target'] = 1 #anomalous\n",
    "\n",
    "data = pd.concat([data_norm_train, data_norm_test, data_anom], ignore_index=True) #concatenate into one dataframe"
   ]
  },
  {
   "cell_type": "code",
   "execution_count": 5,
   "metadata": {},
   "outputs": [
    {
     "name": "stdout",
     "output_type": "stream",
     "text": [
      "Shape of normal training data:  (36000, 17)\n",
      "Shape of normal test data:  (36000, 17)\n",
      "Shape of anomalous test data:  (25065, 17)\n"
     ]
    }
   ],
   "source": [
    "print('Shape of normal training data: ', data_norm_train.shape)\n",
    "print('Shape of normal test data: ', data_norm_test.shape)\n",
    "print('Shape of anomalous test data: ', data_anom.shape)"
   ]
  },
  {
   "cell_type": "markdown",
   "metadata": {},
   "source": [
    "## Dataset analysis"
   ]
  },
  {
   "cell_type": "markdown",
   "metadata": {},
   "source": [
    "Let's visualize first $5$ rows of DataFrame:"
   ]
  },
  {
   "cell_type": "code",
   "execution_count": 6,
   "metadata": {},
   "outputs": [
    {
     "data": {
      "text/html": [
       "<div>\n",
       "<style scoped>\n",
       "    .dataframe tbody tr th:only-of-type {\n",
       "        vertical-align: middle;\n",
       "    }\n",
       "\n",
       "    .dataframe tbody tr th {\n",
       "        vertical-align: top;\n",
       "    }\n",
       "\n",
       "    .dataframe thead th {\n",
       "        text-align: right;\n",
       "    }\n",
       "</style>\n",
       "<table border=\"1\" class=\"dataframe\">\n",
       "  <thead>\n",
       "    <tr style=\"text-align: right;\">\n",
       "      <th></th>\n",
       "      <th>Method</th>\n",
       "      <th>URL</th>\n",
       "      <th>Protocol</th>\n",
       "      <th>UserAgent</th>\n",
       "      <th>Pragma</th>\n",
       "      <th>CacheControl</th>\n",
       "      <th>Accept</th>\n",
       "      <th>AcceptEncoding</th>\n",
       "      <th>AcceptCharset</th>\n",
       "      <th>AcceptLanguage</th>\n",
       "      <th>Host</th>\n",
       "      <th>Cookie</th>\n",
       "      <th>Connection</th>\n",
       "      <th>ContentType</th>\n",
       "      <th>ContentLength</th>\n",
       "      <th>Payload</th>\n",
       "      <th>Target</th>\n",
       "    </tr>\n",
       "  </thead>\n",
       "  <tbody>\n",
       "    <tr>\n",
       "      <th>0</th>\n",
       "      <td>GET</td>\n",
       "      <td>http://localhost:8080/tienda1/index.jsp</td>\n",
       "      <td>HTTP/1.1</td>\n",
       "      <td>Mozilla/5.0 (compatible; Konqueror/3.5; Linux)...</td>\n",
       "      <td>no-cache</td>\n",
       "      <td>no-cache</td>\n",
       "      <td>text/xml,application/xml,application/xhtml+xml...</td>\n",
       "      <td>x-gzip, x-deflate, gzip, deflate</td>\n",
       "      <td>utf-8, utf-8;q=0.5, *;q=0.5</td>\n",
       "      <td>en</td>\n",
       "      <td>localhost:8080</td>\n",
       "      <td>JSESSIONID=1F767F17239C9B670A39E9B10C3825F4</td>\n",
       "      <td>close</td>\n",
       "      <td></td>\n",
       "      <td>0</td>\n",
       "      <td></td>\n",
       "      <td>0</td>\n",
       "    </tr>\n",
       "    <tr>\n",
       "      <th>1</th>\n",
       "      <td>GET</td>\n",
       "      <td>http://localhost:8080/tienda1/publico/anadir.j...</td>\n",
       "      <td>HTTP/1.1</td>\n",
       "      <td>Mozilla/5.0 (compatible; Konqueror/3.5; Linux)...</td>\n",
       "      <td>no-cache</td>\n",
       "      <td>no-cache</td>\n",
       "      <td>text/xml,application/xml,application/xhtml+xml...</td>\n",
       "      <td>x-gzip, x-deflate, gzip, deflate</td>\n",
       "      <td>utf-8, utf-8;q=0.5, *;q=0.5</td>\n",
       "      <td>en</td>\n",
       "      <td>localhost:8080</td>\n",
       "      <td>JSESSIONID=81761ACA043B0E6014CA42A4BCD06AB5</td>\n",
       "      <td>close</td>\n",
       "      <td></td>\n",
       "      <td>0</td>\n",
       "      <td></td>\n",
       "      <td>0</td>\n",
       "    </tr>\n",
       "    <tr>\n",
       "      <th>2</th>\n",
       "      <td>POST</td>\n",
       "      <td>http://localhost:8080/tienda1/publico/anadir.jsp</td>\n",
       "      <td>HTTP/1.1</td>\n",
       "      <td>Mozilla/5.0 (compatible; Konqueror/3.5; Linux)...</td>\n",
       "      <td>no-cache</td>\n",
       "      <td>no-cache</td>\n",
       "      <td>text/xml,application/xml,application/xhtml+xml...</td>\n",
       "      <td>x-gzip, x-deflate, gzip, deflate</td>\n",
       "      <td>utf-8, utf-8;q=0.5, *;q=0.5</td>\n",
       "      <td>en</td>\n",
       "      <td>localhost:8080</td>\n",
       "      <td>JSESSIONID=933185092E0B668B90676E0A2B0767AF</td>\n",
       "      <td>close</td>\n",
       "      <td>application/x-www-form-urlencoded</td>\n",
       "      <td>68</td>\n",
       "      <td>id=3&amp;nombre=Vino+Rioja&amp;precio=100&amp;cantidad=55&amp;...</td>\n",
       "      <td>0</td>\n",
       "    </tr>\n",
       "    <tr>\n",
       "      <th>3</th>\n",
       "      <td>GET</td>\n",
       "      <td>http://localhost:8080/tienda1/publico/autentic...</td>\n",
       "      <td>HTTP/1.1</td>\n",
       "      <td>Mozilla/5.0 (compatible; Konqueror/3.5; Linux)...</td>\n",
       "      <td>no-cache</td>\n",
       "      <td>no-cache</td>\n",
       "      <td>text/xml,application/xml,application/xhtml+xml...</td>\n",
       "      <td>x-gzip, x-deflate, gzip, deflate</td>\n",
       "      <td>utf-8, utf-8;q=0.5, *;q=0.5</td>\n",
       "      <td>en</td>\n",
       "      <td>localhost:8080</td>\n",
       "      <td>JSESSIONID=8FA18BA82C5336D03D3A8AFA3E68CBB0</td>\n",
       "      <td>close</td>\n",
       "      <td></td>\n",
       "      <td>0</td>\n",
       "      <td></td>\n",
       "      <td>0</td>\n",
       "    </tr>\n",
       "    <tr>\n",
       "      <th>4</th>\n",
       "      <td>POST</td>\n",
       "      <td>http://localhost:8080/tienda1/publico/autentic...</td>\n",
       "      <td>HTTP/1.1</td>\n",
       "      <td>Mozilla/5.0 (compatible; Konqueror/3.5; Linux)...</td>\n",
       "      <td>no-cache</td>\n",
       "      <td>no-cache</td>\n",
       "      <td>text/xml,application/xml,application/xhtml+xml...</td>\n",
       "      <td>x-gzip, x-deflate, gzip, deflate</td>\n",
       "      <td>utf-8, utf-8;q=0.5, *;q=0.5</td>\n",
       "      <td>en</td>\n",
       "      <td>localhost:8080</td>\n",
       "      <td>JSESSIONID=7104E6C68A6BCF1423DAE990CE49FEE2</td>\n",
       "      <td>close</td>\n",
       "      <td>application/x-www-form-urlencoded</td>\n",
       "      <td>63</td>\n",
       "      <td>modo=entrar&amp;login=choong&amp;pwd=d1se3ci%F3n&amp;remem...</td>\n",
       "      <td>0</td>\n",
       "    </tr>\n",
       "  </tbody>\n",
       "</table>\n",
       "</div>"
      ],
      "text/plain": [
       "  Method                                                URL  Protocol  \\\n",
       "0    GET            http://localhost:8080/tienda1/index.jsp  HTTP/1.1   \n",
       "1    GET  http://localhost:8080/tienda1/publico/anadir.j...  HTTP/1.1   \n",
       "2   POST   http://localhost:8080/tienda1/publico/anadir.jsp  HTTP/1.1   \n",
       "3    GET  http://localhost:8080/tienda1/publico/autentic...  HTTP/1.1   \n",
       "4   POST  http://localhost:8080/tienda1/publico/autentic...  HTTP/1.1   \n",
       "\n",
       "                                           UserAgent    Pragma CacheControl  \\\n",
       "0  Mozilla/5.0 (compatible; Konqueror/3.5; Linux)...  no-cache     no-cache   \n",
       "1  Mozilla/5.0 (compatible; Konqueror/3.5; Linux)...  no-cache     no-cache   \n",
       "2  Mozilla/5.0 (compatible; Konqueror/3.5; Linux)...  no-cache     no-cache   \n",
       "3  Mozilla/5.0 (compatible; Konqueror/3.5; Linux)...  no-cache     no-cache   \n",
       "4  Mozilla/5.0 (compatible; Konqueror/3.5; Linux)...  no-cache     no-cache   \n",
       "\n",
       "                                              Accept  \\\n",
       "0  text/xml,application/xml,application/xhtml+xml...   \n",
       "1  text/xml,application/xml,application/xhtml+xml...   \n",
       "2  text/xml,application/xml,application/xhtml+xml...   \n",
       "3  text/xml,application/xml,application/xhtml+xml...   \n",
       "4  text/xml,application/xml,application/xhtml+xml...   \n",
       "\n",
       "                     AcceptEncoding                AcceptCharset  \\\n",
       "0  x-gzip, x-deflate, gzip, deflate  utf-8, utf-8;q=0.5, *;q=0.5   \n",
       "1  x-gzip, x-deflate, gzip, deflate  utf-8, utf-8;q=0.5, *;q=0.5   \n",
       "2  x-gzip, x-deflate, gzip, deflate  utf-8, utf-8;q=0.5, *;q=0.5   \n",
       "3  x-gzip, x-deflate, gzip, deflate  utf-8, utf-8;q=0.5, *;q=0.5   \n",
       "4  x-gzip, x-deflate, gzip, deflate  utf-8, utf-8;q=0.5, *;q=0.5   \n",
       "\n",
       "  AcceptLanguage            Host                                       Cookie  \\\n",
       "0             en  localhost:8080  JSESSIONID=1F767F17239C9B670A39E9B10C3825F4   \n",
       "1             en  localhost:8080  JSESSIONID=81761ACA043B0E6014CA42A4BCD06AB5   \n",
       "2             en  localhost:8080  JSESSIONID=933185092E0B668B90676E0A2B0767AF   \n",
       "3             en  localhost:8080  JSESSIONID=8FA18BA82C5336D03D3A8AFA3E68CBB0   \n",
       "4             en  localhost:8080  JSESSIONID=7104E6C68A6BCF1423DAE990CE49FEE2   \n",
       "\n",
       "  Connection                        ContentType  ContentLength  \\\n",
       "0      close                                                 0   \n",
       "1      close                                                 0   \n",
       "2      close  application/x-www-form-urlencoded             68   \n",
       "3      close                                                 0   \n",
       "4      close  application/x-www-form-urlencoded             63   \n",
       "\n",
       "                                             Payload  Target  \n",
       "0                                                          0  \n",
       "1                                                          0  \n",
       "2  id=3&nombre=Vino+Rioja&precio=100&cantidad=55&...       0  \n",
       "3                                                          0  \n",
       "4  modo=entrar&login=choong&pwd=d1se3ci%F3n&remem...       0  "
      ]
     },
     "execution_count": 6,
     "metadata": {},
     "output_type": "execute_result"
    }
   ],
   "source": [
    "data.head(5)"
   ]
  },
  {
   "cell_type": "markdown",
   "metadata": {},
   "source": [
    "Let's visualize unique values of each column in all three dataframes. The point of doing so is to find columns which obtain more than one unique value. Such columns found this way could be used for classification."
   ]
  },
  {
   "cell_type": "code",
   "execution_count": 7,
   "metadata": {},
   "outputs": [
    {
     "name": "stdout",
     "output_type": "stream",
     "text": [
      "NORMAL_TRAIN: Unique Method/s is/are  ['GET' 'POST']\n",
      "NORMAL_TRAIN: Unique URL/s is/are  ['http://localhost:8080/tienda1/index.jsp'\n",
      " 'http://localhost:8080/tienda1/publico/anadir.jsp?id=3&nombre=Vino+Rioja&precio=100&cantidad=55&B1=A%F1adir+al+carrito'\n",
      " 'http://localhost:8080/tienda1/publico/anadir.jsp' ...\n",
      " 'http://localhost:8080/tienda1/publico/pagar.jsp?modo=insertar&precio=6460&B1=Pasar+por+caja'\n",
      " 'http://localhost:8080/tienda1/publico/registro.jsp?modo=registro&login=xaviera&password=och*avero&nombre=Florestano&apellidos=Alegre+Nomdedeu&email=pianka%40noviasteresapalacios.mc&dni=42798379W&direccion=Calle+Estafeta+105+6C&ciudad=Entrala&cp=47800&provincia=Burgos&ntc=2111805626623658&B1=Registrar'\n",
      " 'http://localhost:8080/tienda1/miembros/editar.jsp?modo=registro&login=palidwor&password=AtL%C1ntiCa&nombre=Vazk%E9n&apellidos=Bernaus&email=carras%40quiromante.vi&dni=29061025L&direccion=Calle+Manzanilla+141%2C+&ciudad=Hontangas&cp=08192&provincia=Teruel&ntc=8231060336250168&B1=Registrar']\n",
      "NORMAL_TRAIN: Unique Protocol/s is/are  ['HTTP/1.1']\n",
      "NORMAL_TRAIN: Unique UserAgent/s is/are  ['Mozilla/5.0 (compatible; Konqueror/3.5; Linux) KHTML/3.5.8 (like Gecko)']\n",
      "NORMAL_TRAIN: Unique Pragma/s is/are  ['no-cache']\n",
      "NORMAL_TRAIN: Unique CacheControl/s is/are  ['no-cache']\n",
      "NORMAL_TRAIN: Unique Accept/s is/are  ['text/xml,application/xml,application/xhtml+xml,text/html;q=0.9,text/plain;q=0.8,image/png,*/*;q=0.5']\n",
      "NORMAL_TRAIN: Unique AcceptEncoding/s is/are  ['x-gzip, x-deflate, gzip, deflate']\n",
      "NORMAL_TRAIN: Unique AcceptCharset/s is/are  ['utf-8, utf-8;q=0.5, *;q=0.5']\n",
      "NORMAL_TRAIN: Unique AcceptLanguage/s is/are  ['en']\n",
      "NORMAL_TRAIN: Unique Host/s is/are  ['localhost:8080']\n",
      "NORMAL_TRAIN: Unique Cookie/s is/are  ['JSESSIONID=1F767F17239C9B670A39E9B10C3825F4'\n",
      " 'JSESSIONID=81761ACA043B0E6014CA42A4BCD06AB5'\n",
      " 'JSESSIONID=933185092E0B668B90676E0A2B0767AF' ...\n",
      " 'JSESSIONID=DF85B4F0BDAB8579850FB4858032811D'\n",
      " 'JSESSIONID=AC79ED01AD6C72CD0CAFA94171438750'\n",
      " 'JSESSIONID=F82D9AFD6EDF5C1C9DFCE18C3909B618']\n",
      "NORMAL_TRAIN: Unique Connection/s is/are  ['close']\n",
      "NORMAL_TRAIN: Unique ContentType/s is/are  ['' 'application/x-www-form-urlencoded']\n",
      "NORMAL_TRAIN: Unique ContentLength/s is/are  [  0  68  63   4  33  43 232  17 234  72  66  42 231 241  71  59 240 276\n",
      "  67  38 267 268  74  62  37 242 266  64 248 239 271 253 251  60 246 237\n",
      " 262 243  65 259 249  58 247 263  73  55  75  61 264 258 250 265 254 270\n",
      " 257 244 256  56 252 269 222 238 235  70  57  54 245 255 260 233 291 279\n",
      " 224 275 261 273 236 287 282  41 303 277 272 228 229 284 288 274 280 227\n",
      " 290 283 292 221 285  53 278 230  69 286 296 226 281  52 217 220  36 223\n",
      " 294 307  35 297 225 289  40 302 301]\n",
      "NORMAL_TRAIN: Unique Payload/s is/are  [''\n",
      " 'id=3&nombre=Vino+Rioja&precio=100&cantidad=55&B1=A%F1adir+al+carrito\\n'\n",
      " 'modo=entrar&login=choong&pwd=d1se3ci%F3n&remember=off&B1=Entrar\\n' ...\n",
      " 'modo=insertar&precio=6460&B1=Pasar+por+caja\\n'\n",
      " 'modo=registro&login=xaviera&password=och*avero&nombre=Florestano&apellidos=Alegre+Nomdedeu&email=pianka%40noviasteresapalacios.mc&dni=42798379W&direccion=Calle+Estafeta+105+6C&ciudad=Entrala&cp=47800&provincia=Burgos&ntc=2111805626623658&B1=Registrar\\n'\n",
      " 'modo=registro&login=palidwor&password=AtL%C1ntiCa&nombre=Vazk%E9n&apellidos=Bernaus&email=carras%40quiromante.vi&dni=29061025L&direccion=Calle+Manzanilla+141%2C+&ciudad=Hontangas&cp=08192&provincia=Teruel&ntc=8231060336250168&B1=Registrar\\n']\n"
     ]
    }
   ],
   "source": [
    "print(\"NORMAL_TRAIN: Unique Method/s is/are \", data_norm_train.Method.unique())\n",
    "print(\"NORMAL_TRAIN: Unique URL/s is/are \", data_norm_train.URL.unique())\n",
    "print(\"NORMAL_TRAIN: Unique Protocol/s is/are \", data_norm_train.Protocol.unique())\n",
    "print(\"NORMAL_TRAIN: Unique UserAgent/s is/are \", data_norm_train.UserAgent.unique())\n",
    "print(\"NORMAL_TRAIN: Unique Pragma/s is/are \", data_norm_train.Pragma.unique())\n",
    "print(\"NORMAL_TRAIN: Unique CacheControl/s is/are \", data_norm_train.CacheControl.unique())\n",
    "print(\"NORMAL_TRAIN: Unique Accept/s is/are \", data_norm_train.Accept.unique())\n",
    "print(\"NORMAL_TRAIN: Unique AcceptEncoding/s is/are \", data_norm_train.AcceptEncoding.unique())\n",
    "print(\"NORMAL_TRAIN: Unique AcceptCharset/s is/are \", data_norm_train.AcceptCharset.unique())\n",
    "print(\"NORMAL_TRAIN: Unique AcceptLanguage/s is/are \", data_norm_train.AcceptLanguage.unique())\n",
    "print(\"NORMAL_TRAIN: Unique Host/s is/are \", data_norm_train.Host.unique())\n",
    "print(\"NORMAL_TRAIN: Unique Cookie/s is/are \", data_norm_train.Cookie.unique())\n",
    "print(\"NORMAL_TRAIN: Unique Connection/s is/are \", data_norm_train.Connection.unique())\n",
    "print(\"NORMAL_TRAIN: Unique ContentType/s is/are \", data_norm_train.ContentType.unique())\n",
    "print(\"NORMAL_TRAIN: Unique ContentLength/s is/are \", data_norm_train.ContentLength.unique())\n",
    "print(\"NORMAL_TRAIN: Unique Payload/s is/are \", data_norm_train.Payload.unique())"
   ]
  },
  {
   "cell_type": "code",
   "execution_count": 8,
   "metadata": {},
   "outputs": [
    {
     "name": "stdout",
     "output_type": "stream",
     "text": [
      "NORMAL_TEST: Unique Method/s is/are  ['GET' 'POST']\n",
      "NORMAL_TEST: Unique URL/s is/are  ['http://localhost:8080/tienda1/index.jsp'\n",
      " 'http://localhost:8080/tienda1/publico/anadir.jsp?id=1&nombre=Jam%F3n+Ib%E9rico&precio=39&cantidad=41&B1=A%F1adir+al+carrito'\n",
      " 'http://localhost:8080/tienda1/publico/anadir.jsp' ...\n",
      " 'http://localhost:8080/tienda1/publico/pagar.jsp?modo=insertar&precio=5295&B1=Pasar+por+caja'\n",
      " 'http://localhost:8080/tienda1/publico/registro.jsp?modo=registro&login=popp&password=rEa_Rg%DCIr&nombre=Abilio&apellidos=Compieque&email=janaver%40decobiombo.cz&dni=74345001P&direccion=La+Nucia%2C+191%2C+7-G&ciudad=Barrios+de+Bureba%2C+Los&cp=30189&provincia=Zaragoza&ntc=8167358585113296&B1=Registrar'\n",
      " 'http://localhost:8080/tienda1/miembros/editar.jsp?modo=registro&login=bosch7&password=56l43dor&nombre=Matco&apellidos=Herv%EDas+Daya&email=keams.thurman%40lamejorplaya.org&dni=87364441E&direccion=Duraznillo%2C+90%2C+&ciudad=Salcedillo&cp=17474&provincia=Lleida&ntc=6770173797768562&B1=Registrar']\n",
      "NORMAL_TEST: Unique Protocol/s is/are  ['HTTP/1.1']\n",
      "NORMAL_TEST: Unique UserAgent/s is/are  ['Mozilla/5.0 (compatible; Konqueror/3.5; Linux) KHTML/3.5.8 (like Gecko)']\n",
      "NORMAL_TEST: Unique Pragma/s is/are  ['no-cache']\n",
      "NORMAL_TEST: Unique CacheControl/s is/are  ['no-cache']\n",
      "NORMAL_TEST: Unique Accept/s is/are  ['text/xml,application/xml,application/xhtml+xml,text/html;q=0.9,text/plain;q=0.8,image/png,*/*;q=0.5']\n",
      "NORMAL_TEST: Unique AcceptEncoding/s is/are  ['x-gzip, x-deflate, gzip, deflate']\n",
      "NORMAL_TEST: Unique AcceptCharset/s is/are  ['utf-8, utf-8;q=0.5, *;q=0.5']\n",
      "NORMAL_TEST: Unique AcceptLanguage/s is/are  ['en']\n",
      "NORMAL_TEST: Unique Host/s is/are  ['localhost:8080']\n",
      "NORMAL_TEST: Unique Cookie/s is/are  ['JSESSIONID=EA414B3E327DED6875848530C864BD8F'\n",
      " 'JSESSIONID=54E25FF4B7F0E4E855B112F882E9EEA5'\n",
      " 'JSESSIONID=788887A0F479749C4CEEA1E268B4A501' ...\n",
      " 'JSESSIONID=487FD70FECB4D14155C95F38C389DA0D'\n",
      " 'JSESSIONID=6E0F5F3BC982DFC73B39EAD495ADCE96'\n",
      " 'JSESSIONID=A70DD1BA160B294CB5E1C2D8FAE7C09F']\n",
      "NORMAL_TEST: Unique Connection/s is/are  ['close']\n",
      "NORMAL_TEST: Unique ContentType/s is/are  ['' 'application/x-www-form-urlencoded']\n",
      "NORMAL_TEST: Unique ContentLength/s is/are  [  0  74  60   4  33  43 243  17 253  71  58  38 238 235  75 237 247  67\n",
      "  61 265 250 252 259  63 292  68  62 268 266 251  66 258  72  59  37 284\n",
      " 264 256 262 270 230  64 263 272  65 240 242 282 277 261 246 244 267 274\n",
      " 257  57 245  42 241 260  54 234 254 280 224 233 290  55  36 255 249 239\n",
      " 236 248 226 231 279  73 232 269 276  56 273  41  70  35 278 283 275 229\n",
      " 271 223 298 281 303 288  40  52 289 228  53 227 225 297 294  69 313 222\n",
      " 295 304 296 287 291 221 286 301 285]\n",
      "NORMAL_TEST: Unique Payload/s is/are  [''\n",
      " 'id=1&nombre=Jam%F3n+Ib%E9rico&precio=39&cantidad=41&B1=A%F1adir+al+carrito\\n'\n",
      " 'modo=entrar&login=caria&pwd=egipciaca&remember=off&B1=Entrar\\n' ...\n",
      " 'modo=insertar&precio=5295&B1=Pasar+por+caja\\n'\n",
      " 'modo=registro&login=popp&password=rEa_Rg%DCIr&nombre=Abilio&apellidos=Compieque&email=janaver%40decobiombo.cz&dni=74345001P&direccion=La+Nucia%2C+191%2C+7-G&ciudad=Barrios+de+Bureba%2C+Los&cp=30189&provincia=Zaragoza&ntc=8167358585113296&B1=Registrar\\n'\n",
      " 'modo=registro&login=bosch7&password=56l43dor&nombre=Matco&apellidos=Herv%EDas+Daya&email=keams.thurman%40lamejorplaya.org&dni=87364441E&direccion=Duraznillo%2C+90%2C+&ciudad=Salcedillo&cp=17474&provincia=Lleida&ntc=6770173797768562&B1=Registrar\\n']\n"
     ]
    }
   ],
   "source": [
    "print(\"NORMAL_TEST: Unique Method/s is/are \", data_norm_test.Method.unique())\n",
    "print(\"NORMAL_TEST: Unique URL/s is/are \", data_norm_test.URL.unique())\n",
    "print(\"NORMAL_TEST: Unique Protocol/s is/are \", data_norm_test.Protocol.unique())\n",
    "print(\"NORMAL_TEST: Unique UserAgent/s is/are \", data_norm_test.UserAgent.unique())\n",
    "print(\"NORMAL_TEST: Unique Pragma/s is/are \", data_norm_test.Pragma.unique())\n",
    "print(\"NORMAL_TEST: Unique CacheControl/s is/are \", data_norm_test.CacheControl.unique())\n",
    "print(\"NORMAL_TEST: Unique Accept/s is/are \", data_norm_test.Accept.unique())\n",
    "print(\"NORMAL_TEST: Unique AcceptEncoding/s is/are \", data_norm_test.AcceptEncoding.unique())\n",
    "print(\"NORMAL_TEST: Unique AcceptCharset/s is/are \", data_norm_test.AcceptCharset.unique())\n",
    "print(\"NORMAL_TEST: Unique AcceptLanguage/s is/are \", data_norm_test.AcceptLanguage.unique())\n",
    "print(\"NORMAL_TEST: Unique Host/s is/are \", data_norm_test.Host.unique())\n",
    "print(\"NORMAL_TEST: Unique Cookie/s is/are \", data_norm_test.Cookie.unique())\n",
    "print(\"NORMAL_TEST: Unique Connection/s is/are \", data_norm_test.Connection.unique())\n",
    "print(\"NORMAL_TEST: Unique ContentType/s is/are \", data_norm_test.ContentType.unique())\n",
    "print(\"NORMAL_TEST: Unique ContentLength/s is/are \", data_norm_test.ContentLength.unique())\n",
    "print(\"NORMAL_TEST: Unique Payload/s is/are \", data_norm_test.Payload.unique())"
   ]
  },
  {
   "cell_type": "code",
   "execution_count": 9,
   "metadata": {},
   "outputs": [
    {
     "name": "stdout",
     "output_type": "stream",
     "text": [
      "ANOMAL: Unique Method/s is/are  ['GET' 'POST' 'PUT']\n",
      "ANOMAL: Unique URL/s is/are  ['http://localhost:8080/tienda1/publico/anadir.jsp?id=2&nombre=Jam%F3n+Ib%E9rico&precio=85&cantidad=%27%3B+DROP+TABLE+usuarios%3B+SELECT+*+FROM+datos+WHERE+nombre+LIKE+%27%25&B1=A%F1adir+al+carrito'\n",
      " 'http://localhost:8080/tienda1/publico/anadir.jsp'\n",
      " 'http://localhost:8080/tienda1/publico/anadir.jsp?id=2%2F&nombre=Jam%F3n+Ib%E9rico&precio=85&cantidad=49&B1=A%F1adir+al+carrito'\n",
      " ...\n",
      " 'http://localhost:8080/tienda1/miembros/editar.jsp?modo=registro&login=beaumont&password=quEratItiS&nombre=Odilia&apellidos=Stumptner&email=henried%40cbgerindote.asia&dni=66631393W&direccion=C%2F+Xoana+Nogueira%2C+25+5%3FC&ciudad=Barrios%2C+Los&cp=46135&provincia=%C1vilaany%253F%250D%250ASet-cookie%253A%2BTamper%253D1041264011025374727&ntc=2498947451884473&B1=Registrar'\n",
      " 'http://localhost:8080/tienda1/miembros/editar.jsp?modo=registro&login=%2Bmel%2Fhem&password=quEratItiS&nombre=Odilia&apellidos=Stumptner&email=henried%40cbgerindote.asia&dni=66631393W&direccion=C%2F+Xoana+Nogueira%2C+25+5%3FC&ciudad=Barrios%2C+Los&cp=46135&provincia=%C1vila&ntc=2498947451884473&B1=Registrar'\n",
      " 'http://localhost:8080/tienda1/miembros/editar.jsp?modo=registro&login=beaumont&password=quEratItiS&nombre=Odilia&apellidos=Stumptner&email=henried%40cbgerindote.asia&dniA=66631393W&direccion=C%2F+Xoana+Nogueira%2C+25+5%3FC&ciudad=Barrios%2C+Los&cp=46135&provincia=%C1vila&ntc=2498947451884473&B1=Registrar']\n",
      "ANOMAL: Unique Protocol/s is/are  ['HTTP/1.1']\n",
      "ANOMAL: Unique UserAgent/s is/are  ['Mozilla/5.0 (compatible; Konqueror/3.5; Linux) KHTML/3.5.8 (like Gecko)']\n",
      "ANOMAL: Unique Pragma/s is/are  ['no-cache']\n",
      "ANOMAL: Unique CacheControl/s is/are  ['no-cache']\n",
      "ANOMAL: Unique Accept/s is/are  ['text/xml,application/xml,application/xhtml+xml,text/html;q=0.9,text/plain;q=0.8,image/png,*/*;q=0.5'\n",
      " 'Accept:text/xml,application/xml,application/xhtml+xml,text/html;q=0.9,text/plain;q=0.8,image/png,*/*;q=0.5']\n",
      "ANOMAL: Unique AcceptEncoding/s is/are  ['x-gzip, x-deflate, gzip, deflate']\n",
      "ANOMAL: Unique AcceptCharset/s is/are  ['utf-8, utf-8;q=0.5, *;q=0.5']\n",
      "ANOMAL: Unique AcceptLanguage/s is/are  ['en']\n",
      "ANOMAL: Unique Host/s is/are  ['localhost:8080' 'localhost:9090']\n",
      "ANOMAL: Unique Cookie/s is/are  ['JSESSIONID=B92A8B48B9008CD29F622A994E0F650D'\n",
      " 'JSESSIONID=AE29AEEBDE479D5E1A18B4108C8E3CE0'\n",
      " 'JSESSIONID=F563B5262843F12ECAE41815ABDEEA54' ...\n",
      " 'JSESSIONID=7F0BA54A88B849EF752006D388E15CDD'\n",
      " 'JSESSIONID=FB018FFB06011CFABD60D8E8AD58CA21'\n",
      " 'JSESSIONID=3CC12010CDA952F123240EBAD79B55CC']\n",
      "ANOMAL: Unique Connection/s is/are  ['close']\n",
      "ANOMAL: Unique ContentType/s is/are  ['' 'application/x-www-form-urlencoded']\n",
      "ANOMAL: Unique ContentLength/s is/are  [  0 146  77 118  69  63   5  12  34 106  45  43 252 324 308 254 253  20\n",
      "  18 398 224 237 229 136  76  74 135  71  64   4   8 113  55  99  41  44\n",
      " 306 243  83 280 232 234 143  72  66  60   9  70 267 241 246 102 256 258\n",
      "  75  73 132  62  59  14 244  80  61  78  33  37 262 227 242 250 125  67\n",
      "  54  56  39 335 264 260  38   6 309 295 249  47 100 261  17  25 150  21\n",
      "  50  51 279 319 278 275 299 247  46 236 230  91 263 259  68  48  30 271\n",
      " 294 255 272  22  87 277 290 291 101 251 153  65 273 289 327  58   7  89\n",
      " 285 270 116  57 105 266 111 140 169 597  40 304 245 342 119 337 286 331\n",
      " 302 268 122 179  24 104 310 265 112  26  32 799 235 282  88  49  84 248\n",
      " 269 121 573 287  93 257 341 281 110  36 115 410 240 311 151  86 826 301\n",
      "  19 174  79 293 300 148 152 316  82 131 835 123 126 209 437 323 626 109\n",
      " 313 233  52 361 567  94 239  97 352 292 325  81 819  13 312  90 114 238\n",
      " 784 107 127 274 139  85 333 133 318 155 317 824 120 314 340 371 346  95\n",
      " 344 303 296 144 307 283 199 231 159 330 297 117 124  98 403 217 593 329\n",
      " 103 366 141 321 404 332 320 173 108 149 128 631 338 305  42 356 129 226\n",
      " 276 628 130  35 298 138 187 345 137 142 184 369 145  96 815 336 447 161\n",
      " 350 621 177 421 794 203 147 165 166 284 367  92 322 134 391 222 777 223\n",
      " 225 355  31 429 638 167 328 218 351 334 163 228 581 399 221 343 601 171\n",
      " 204 326 354 339 288 160 365 158 182 568 428 164  53 213 315 636 353 359\n",
      " 822 368 411 616 220 172 389 374 836 802 208 181 219 414 820 599 615 438\n",
      " 412 183 602 162 154 635 205 156 625 423 779 401 386 623 348 443 441 214\n",
      " 620 416 347 622 385]\n",
      "ANOMAL: Unique Payload/s is/are  [''\n",
      " 'id=2&nombre=Jam%F3n+Ib%E9rico&precio=85&cantidad=%27%3B+DROP+TABLE+usuarios%3B+SELECT+*+FROM+datos+WHERE+nombre+LIKE+%27%25&B1=A%F1adir+al+carrito\\n'\n",
      " 'id=2%2F&nombre=Jam%F3n+Ib%E9rico&precio=85&cantidad=49&B1=A%F1adir+al+carrito\\n'\n",
      " ...\n",
      " 'modo=registro&login=beaumont&password=quEratItiS&nombre=Odilia&apellidos=Stumptner&email=henried%40cbgerindote.asia&dni=66631393W&direccion=C%2F+Xoana+Nogueira%2C+25+5%3FC&ciudad=Barrios%2C+Los&cp=46135&provincia=%C1vilaany%253F%250D%250ASet-cookie%253A%2BTamper%253D1041264011025374727&ntc=2498947451884473&B1=Registrar\\n'\n",
      " 'modo=registro&login=%2Bmel%2Fhem&password=quEratItiS&nombre=Odilia&apellidos=Stumptner&email=henried%40cbgerindote.asia&dni=66631393W&direccion=C%2F+Xoana+Nogueira%2C+25+5%3FC&ciudad=Barrios%2C+Los&cp=46135&provincia=%C1vila&ntc=2498947451884473&B1=Registrar\\n'\n",
      " 'modo=registro&login=beaumont&password=quEratItiS&nombre=Odilia&apellidos=Stumptner&email=henried%40cbgerindote.asia&dniA=66631393W&direccion=C%2F+Xoana+Nogueira%2C+25+5%3FC&ciudad=Barrios%2C+Los&cp=46135&provincia=%C1vila&ntc=2498947451884473&B1=Registrar\\n']\n"
     ]
    }
   ],
   "source": [
    "print(\"ANOMAL: Unique Method/s is/are \", data_anom.Method.unique())\n",
    "print(\"ANOMAL: Unique URL/s is/are \", data_anom.URL.unique())\n",
    "print(\"ANOMAL: Unique Protocol/s is/are \", data_anom.Protocol.unique())\n",
    "print(\"ANOMAL: Unique UserAgent/s is/are \", data_anom.UserAgent.unique())\n",
    "print(\"ANOMAL: Unique Pragma/s is/are \", data_anom.Pragma.unique())\n",
    "print(\"ANOMAL: Unique CacheControl/s is/are \", data_anom.CacheControl.unique())\n",
    "print(\"ANOMAL: Unique Accept/s is/are \", data_anom.Accept.unique())\n",
    "print(\"ANOMAL: Unique AcceptEncoding/s is/are \", data_anom.AcceptEncoding.unique())\n",
    "print(\"ANOMAL: Unique AcceptCharset/s is/are \", data_anom.AcceptCharset.unique())\n",
    "print(\"ANOMAL: Unique AcceptLanguage/s is/are \", data_anom.AcceptLanguage.unique())\n",
    "print(\"ANOMAL: Unique Host/s is/are \", data_anom.Host.unique())\n",
    "print(\"ANOMAL: Unique Cookie/s is/are \", data_anom.Cookie.unique())\n",
    "print(\"ANOMAL: Unique Connection/s is/are \", data_anom.Connection.unique())\n",
    "print(\"ANOMAL: Unique ContentType/s is/are \", data_anom.ContentType.unique())\n",
    "print(\"ANOMAL: Unique ContentLength/s is/are \", data_anom.ContentLength.unique())\n",
    "print(\"ANOMAL: Unique Payload/s is/are \", data_anom.Payload.unique())"
   ]
  },
  {
   "cell_type": "markdown",
   "metadata": {},
   "source": [
    "Brief look over the values reveals that following columns have two or more unique values: ``Method``, ``URL``, ``Host``, ``Cookie``, ``ContentLength`` and ``Payload``. ``URL`` obtains variable ``HOST`` so this variable will not be used.\n",
    "\n",
    "Thus, we shall use:\n",
    "\n",
    "* two factor variables: ``Method`` (3 factors: 'GET', 'POST', 'PUT'),\n",
    "* three text variables: ``URL``, ``Cookie``, ``Payload``,\n",
    "* one continuous variable: ``ContentLength`` and\n",
    "* target: ``Target``."
   ]
  },
  {
   "cell_type": "markdown",
   "metadata": {},
   "source": [
    "## Exploratory Analysis"
   ]
  },
  {
   "cell_type": "markdown",
   "metadata": {},
   "source": [
    "Basic countplots of relation between factors and ``Target`` are shown."
   ]
  },
  {
   "cell_type": "code",
   "execution_count": 10,
   "metadata": {},
   "outputs": [
    {
     "data": {
      "image/png": "[encoded data removed]",
      "text/plain": [
       "<Figure size 432x288 with 1 Axes>"
      ]
     },
     "metadata": {
      "needs_background": "light"
     },
     "output_type": "display_data"
    }
   ],
   "source": [
    "# counts of Method and Target\n",
    "sn.countplot(x='Method', hue='Target', data=data)\n",
    "plt.show()"
   ]
  },
  {
   "cell_type": "code",
   "execution_count": 11,
   "metadata": {},
   "outputs": [
    {
     "data": {
      "image/png": "[encoded data removed]",
      "text/plain": [
       "<Figure size 432x288 with 1 Axes>"
      ]
     },
     "metadata": {
      "needs_background": "light"
     },
     "output_type": "display_data"
    }
   ],
   "source": [
    "# counts of Host and Target\n",
    "sn.countplot(x='Host', hue='Target', data=data)\n",
    "plt.show()"
   ]
  },
  {
   "cell_type": "markdown",
   "metadata": {},
   "source": [
    "## Classification"
   ]
  },
  {
   "cell_type": "markdown",
   "metadata": {},
   "source": [
    "Firstly, ``Method`` variable as a factor variable should be hot-encoded."
   ]
  },
  {
   "cell_type": "code",
   "execution_count": 12,
   "metadata": {},
   "outputs": [],
   "source": [
    "from sklearn.preprocessing import OneHotEncoder\n",
    "data_onehot = data.copy()\n",
    "data_onehot = pd.get_dummies(data_onehot, columns=['Method'], prefix = ['Method'])\n",
    "\n",
    "get = data_onehot['Method_GET'].values.reshape(len(data_onehot['Method_GET']), 1)\n",
    "post = data_onehot['Method_POST'].values.reshape(len(data_onehot['Method_GET']), 1)\n",
    "put = data_onehot['Method_PUT'].values.reshape(len(data_onehot['Method_GET']), 1)\n",
    "\n",
    "# three columns corresponding to hot-encoded Method \n",
    "getpostput = np.concatenate((get, post, put), axis = 1)"
   ]
  },
  {
   "cell_type": "markdown",
   "metadata": {},
   "source": [
    "Secondly, text data need to be converted into features. We will use ``TfIdfVectorizer`` which converts a collection of raw text to a matrix of TF-IDF features. TF-IDF (term frequency–inverse document frequency) reflects how important a specific word (or in our case character) is.  In our case, ``TfIdfVectorizer`` performs better than ``CountVectorizer``.\n",
    "\n",
    "Experiments have shown that *classifiers* perform better when we concatenate text data and then vectorize rather than firstly vectorize and then concatenate. Experiments have also shown that *classifiers* perform better without ``ContentLength`` variable (our focus is to avoid large feature space)."
   ]
  },
  {
   "cell_type": "code",
   "execution_count": 13,
   "metadata": {},
   "outputs": [
    {
     "name": "stdout",
     "output_type": "stream",
     "text": [
      "Shape of chosen feature matrix:  (97065, 30666)\n"
     ]
    }
   ],
   "source": [
    "y = data.Target\n",
    "\n",
    "concatenated = data['URL'] + data['Cookie'] + data['Payload']\n",
    "\n",
    "#we want to avoid large feature space, so we are using n_gram from 2 to 3\n",
    "vectorizer = TfidfVectorizer(analyzer = 'char', ngram_range=(2,3))\n",
    "text_vectorized = vectorizer.fit_transform(concatenated)\n",
    "\n",
    "##classifiers perform better without contentlength\n",
    "#contentlength = data['ContentLength'].values.reshape(len(data['ContentLength']), 1)\n",
    "\n",
    "import scipy.sparse\n",
    "feature_matrix = scipy.sparse.hstack([getpostput, text_vectorized])\n",
    "print('Shape of chosen feature matrix: ', feature_matrix.shape)"
   ]
  },
  {
   "cell_type": "code",
   "execution_count": 14,
   "metadata": {},
   "outputs": [
    {
     "name": "stdout",
     "output_type": "stream",
     "text": [
      "Anomalous/normal ratio in test data: 0.2616668383640672\n"
     ]
    }
   ],
   "source": [
    "X_train, X_test, y_train, y_test = train_test_split(feature_matrix, y, test_size=0.1) \n",
    "#80% training, 20% testing data\n",
    "#randomization of testing data\n",
    "#furthermore, check the ratio between normal/anomalous in testing data to maintain diversity\n",
    "print('Anomalous/normal ratio in test data:', sum(y_test) / y_test.shape[0])"
   ]
  },
  {
   "cell_type": "markdown",
   "metadata": {},
   "source": [
    "In case of anomaly detection we often encounter imbalanced data, which is, as we can see from the ratio, not our case."
   ]
  },
  {
   "cell_type": "markdown",
   "metadata": {},
   "source": [
    "### Logistic regression\n",
    "First classifier to try is **Logistic regression** as it is easily interpretable and fast to compute. "
   ]
  },
  {
   "cell_type": "code",
   "execution_count": 15,
   "metadata": {},
   "outputs": [
    {
     "name": "stdout",
     "output_type": "stream",
     "text": [
      "Test accuracy for Logistic Regression: 0.9814\n",
      "F1 score for Logistic Regression: 0.9633\n"
     ]
    },
    {
     "data": {
      "image/png": "[encoded data removed]",
      "text/plain": [
       "<Figure size 288x144 with 2 Axes>"
      ]
     },
     "metadata": {
      "needs_background": "light"
     },
     "output_type": "display_data"
    }
   ],
   "source": [
    "#Logistic Regression\n",
    "lgr = LogisticRegression(solver = 'lbfgs', max_iter = 1000)\n",
    "lgr.fit(X_train, y_train)\n",
    "y_pred = lgr.predict(X_test)\n",
    "acc_test = accuracy_score(y_test, y_pred)\n",
    "f1_test = f1_score(y_test, y_pred, average='binary')\n",
    "conf_matrix = confusion_matrix(y_test, y_pred)\n",
    "\n",
    "print(\"Test accuracy for Logistic Regression: %.4f\" % acc_test)\n",
    "print(\"F1 score for Logistic Regression: %.4f\" % f1_test)\n",
    "\n",
    "cm = pd.DataFrame(conf_matrix, index = range(2), columns = range(2))\n",
    "plt.figure(figsize=(4, 2))\n",
    "sn.heatmap(cm, annot=True)\n",
    "plt.show()"
   ]
  },
  {
   "cell_type": "markdown",
   "metadata": {},
   "source": [
    "Initial results are promising but still not great. \n",
    "\n",
    "Metrics we use for classification are following: accuracy, confusion matrix and F1 score.\n",
    "\n",
    "For clarity, **confusion matrix** consists of four numbers:\n",
    "*  ``True Positive (TP)``\n",
    "*  ``True Negative (TN)``,\n",
    "*  ``False Positive (FP)`` which predicts 0 for true 1, thus predicts *normal* for true *anomalous*,\n",
    "*  ``False Negative (FN)`` which predicts 1 for true 0, thus predicts *anomalous* for true *normal*.\n",
    "\n",
    "When looking at confusion matrix, we prefer the ``FP`` to be smaller than ``FN`` as we rather prefer duo *predicted condition: anomalous* + *true condition: normal* when we are mistaken than the other way around. \n",
    "\n",
    "A combination of $\\text{precision}$ and $\\text{recall}$ is **$F_1$ score**, which is defined as $2  \\frac{\\text{precision} \\times \\text{recall}}{\\text{precision} + \\text{recall}}$, where $\\text{precision} = \\frac{\\text{TP}}{\\text{TP} + \\text{FP}} $ and $\\text{recall} = \\frac{\\text{TP}}{\\text{TP}+\\text{FN}}$. $F_1$ score is used for binary classification as a additional metric to accuracy."
   ]
  },
  {
   "cell_type": "markdown",
   "metadata": {},
   "source": [
    "$K$-fold cross-validation divides training data into $k$ folds. The prediction function is learned using $k-1$ folds, and the fold left out is used for validation. This is done to check model generalization and potential risk of overfitting."
   ]
  },
  {
   "cell_type": "code",
   "execution_count": 16,
   "metadata": {},
   "outputs": [
    {
     "name": "stdout",
     "output_type": "stream",
     "text": [
      "5-fold cross-validation results: [0.96955648 0.96950497 0.9709473  0.97187452 0.96981404]\n"
     ]
    }
   ],
   "source": [
    "kfold = cross_val_score(lgr, feature_matrix, y, cv=5)\n",
    "print('5-fold cross-validation results:' , kfold)"
   ]
  },
  {
   "cell_type": "markdown",
   "metadata": {},
   "source": [
    "### Support Vector Machines\n",
    "\n",
    "Another used classifier is **Support Vector Machine** classifier. Results are much better than for Logistic Regression."
   ]
  },
  {
   "cell_type": "code",
   "execution_count": 17,
   "metadata": {},
   "outputs": [
    {
     "name": "stdout",
     "output_type": "stream",
     "text": [
      "Test accuracy for SVM: 0.9954\n",
      "F1 score for SVM: 0.9911\n"
     ]
    },
    {
     "data": {
      "image/png": "[encoded data removed]",
      "text/plain": [
       "<Figure size 288x144 with 2 Axes>"
      ]
     },
     "metadata": {
      "needs_background": "light"
     },
     "output_type": "display_data"
    }
   ],
   "source": [
    "#Support Vector Machine (linear) classifier\n",
    "svm = LinearSVC(max_iter=1000)\n",
    "svm.fit(X_train, y_train)\n",
    "y_pred = svm.predict(X_test)\n",
    "acc_test = accuracy_score(y_test, y_pred)\n",
    "f1_test = f1_score(y_test, y_pred, average='binary')\n",
    "conf_matrix = confusion_matrix(y_test, y_pred)\n",
    "\n",
    "print(\"Test accuracy for SVM: %.4f\" % acc_test)\n",
    "print(\"F1 score for SVM: %.4f\" % f1_test)\n",
    "\n",
    "cm = pd.DataFrame(conf_matrix, index = range(2), columns = range(2))\n",
    "plt.figure(figsize=(4, 2))\n",
    "sn.heatmap(cm, annot=True)\n",
    "plt.show()"
   ]
  },
  {
   "cell_type": "code",
   "execution_count": 18,
   "metadata": {},
   "outputs": [
    {
     "name": "stdout",
     "output_type": "stream",
     "text": [
      "5-fold cross-validation results: [0.97821048 0.97857106 0.97954979 0.97908618 0.97867408]\n"
     ]
    }
   ],
   "source": [
    "kfold = cross_val_score(svm, feature_matrix, y, cv=5)\n",
    "print('5-fold cross-validation results:' , kfold)"
   ]
  },
  {
   "cell_type": "markdown",
   "metadata": {},
   "source": [
    "As mentioned, classification results for **Support Vector Machines** are much better than those for **Logistic Regression**. All metrics suggest that the classification is well-performing and there is no overfitting. "
   ]
  },
  {
   "cell_type": "markdown",
   "metadata": {},
   "source": [
    "### Random Forest\n",
    "\n",
    "Another classifier to focus on is **Random Forest** which are being widely used for anomaly detection. Number of Decision trees in the forest is set to 150, which was found out by experiment."
   ]
  },
  {
   "cell_type": "code",
   "execution_count": 19,
   "metadata": {},
   "outputs": [
    {
     "name": "stdout",
     "output_type": "stream",
     "text": [
      "Test accuracy for Random Forest: 0.9849\n",
      "F1 score for Random Forest: 0.9709\n"
     ]
    },
    {
     "data": {
      "image/png": "[encoded data removed]",
      "text/plain": [
       "<Figure size 288x144 with 2 Axes>"
      ]
     },
     "metadata": {
      "needs_background": "light"
     },
     "output_type": "display_data"
    }
   ],
   "source": [
    "rfc = RandomForestClassifier(n_estimators = 150)\n",
    "rfc.fit(X_train, y_train)\n",
    "y_pred = rfc.predict(X_test)\n",
    "acc_test = accuracy_score(y_test, y_pred)\n",
    "f1_test = f1_score(y_test, y_pred, average='binary')\n",
    "conf_matrix = confusion_matrix(y_test, y_pred)\n",
    "\n",
    "print(\"Test accuracy for Random Forest: %.4f\" % acc_test)\n",
    "print(\"F1 score for Random Forest: %.4f\" % f1_test)\n",
    "\n",
    "cm = pd.DataFrame(conf_matrix, index = range(2), columns = range(2))\n",
    "plt.figure(figsize=(4, 2))\n",
    "sn.heatmap(cm, annot=True)\n",
    "plt.show()"
   ]
  },
  {
   "cell_type": "code",
   "execution_count": 20,
   "metadata": {},
   "outputs": [
    {
     "name": "stdout",
     "output_type": "stream",
     "text": [
      "5-fold cross-validation results: [0.96543553 0.96728996 0.96559007 0.9644053  0.96507495]\n"
     ]
    }
   ],
   "source": [
    "kfold = cross_val_score(rfc, feature_matrix, y, cv=5)\n",
    "print('5-fold cross-validation results:' , kfold)"
   ]
  },
  {
   "cell_type": "markdown",
   "metadata": {},
   "source": [
    "As can be seen, **Random Forest** with this settings does not perform as good and as fast as proposed **SVM**.\n",
    "\n",
    "Another classifier to use would be **Neural Network**, either deep or shallow, but with this kind of classification metrics' results, computation speed and interpretability there is little reason to do so."
   ]
  },
  {
   "cell_type": "markdown",
   "metadata": {},
   "source": [
    "## Conclusion"
   ]
  },
  {
   "cell_type": "markdown",
   "metadata": {},
   "source": [
    "This Jupyter Notebook is concerned with analyzing **CSIC 2010** dataset and for interview assignment for Blindspot Solutions. \n",
    "\n",
    "CSIC 2010 dataset was parsed and analyzed in the first part of this notebook. \n",
    "Four variables from the parsed dataframe (``Method``, ``URL``, ``Cookie`` and ``Payload``) were used. Factor variable was hot-encoded and text was vectorized by tf-idf vectorizer.\n",
    "As mentioned in the email, supervised techniques could be used so three classifiers were used, namely **Logistic Regression**, **Support Vector Machine** and **Random Forest**. All used metrics (accuracy, F1, confusion matrix) suggest that the best performing classifier for our feature space is **SVM**. Additionally, feature space is not that small so algorithm like **SVM** performs way faster than **Random Forest**.\n",
    "\n",
    "The classification metrics of **SVM** are close to 99.5% test accuracy, 99.1% $F_1$ score and ~97.9% 5-fold cross validation accuracy. "
   ]
  }
 ],
 "metadata": {
  "kernelspec": {
   "display_name": "Python 3",
   "language": "python",
   "name": "python3"
  },
  "language_info": {
   "codemirror_mode": {
    "name": "ipython",
    "version": 3
   },
   "file_extension": ".py",
   "mimetype": "text/x-python",
   "name": "python",
   "nbconvert_exporter": "python",
   "pygments_lexer": "ipython3",
   "version": "3.6.8"
  }
 },
 "nbformat": 4,
 "nbformat_minor": 2
}
